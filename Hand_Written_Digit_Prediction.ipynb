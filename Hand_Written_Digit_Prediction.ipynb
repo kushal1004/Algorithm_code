{
  "nbformat": 4,
  "nbformat_minor": 0,
  "metadata": {
    "colab": {
      "provenance": [],
      "toc_visible": true
    },
    "kernelspec": {
      "name": "python3",
      "display_name": "Python 3"
    },
    "language_info": {
      "name": "python"
    }
  },
  "cells": [
    {
      "cell_type": "markdown",
      "source": [
        "Hand Written Digit Prediction - Classification Analysis\n",
        "\n",
        "The digits dataset consists of 8x8 pixel images of digits.The images attribute of the datasets stores 8x8 arrays of gray scale values for each image . We will use these arrays to visualization the first 4 images.\n"
      ],
      "metadata": {
        "id": "x-nx_fRNoXGm"
      }
    },
    {
      "cell_type": "markdown",
      "source": [
        "# Import libraries"
      ],
      "metadata": {
        "id": "Wf2Ef6vWoevZ"
      }
    },
    {
      "cell_type": "code",
      "source": [
        "import pandas as pd"
      ],
      "metadata": {
        "id": "TnwfVRc7owTw"
      },
      "execution_count": 17,
      "outputs": []
    },
    {
      "cell_type": "code",
      "source": [
        "import numpy as nm"
      ],
      "metadata": {
        "id": "j1VKkqXpo1cw"
      },
      "execution_count": 18,
      "outputs": []
    },
    {
      "cell_type": "code",
      "source": [
        "import matplotlib.pyplot as plt"
      ],
      "metadata": {
        "id": "ONjbiIi66KDl"
      },
      "execution_count": 19,
      "outputs": []
    },
    {
      "cell_type": "markdown",
      "source": [
        "## Import data"
      ],
      "metadata": {
        "id": "umg4eXT36b5F"
      }
    },
    {
      "cell_type": "code",
      "source": [
        "from sklearn.datasets import load_digits"
      ],
      "metadata": {
        "id": "xvmefrXP6neH"
      },
      "execution_count": 20,
      "outputs": []
    },
    {
      "cell_type": "code",
      "source": [
        "df = load_digits()"
      ],
      "metadata": {
        "id": "Vr30Fy9W7KRP"
      },
      "execution_count": 21,
      "outputs": []
    },
    {
      "cell_type": "code",
      "source": [
        "_, axes = plt.subplots(nrows=1, ncols=5, figsize=(10,4))\n",
        "for ax ,image,label in zip(axes,df.images,df.target):\n",
        "  ax.set_axis_off()\n",
        "  ax.imshow(image,cmap = plt.cm.gray_r,interpolation = \"nearest\")\n",
        "  ax.set_title(\"Trainin : %i\"%label)"
      ],
      "metadata": {
        "colab": {
          "base_uri": "https://localhost:8080/",
          "height": 192
        },
        "id": "BwLEr5Dt7M1A",
        "outputId": "72ee1450-063e-4a2a-afca-47715c7c31b6"
      },
      "execution_count": 22,
      "outputs": [
        {
          "output_type": "display_data",
          "data": {
            "text/plain": [
              "<Figure size 1000x400 with 5 Axes>"
            ],
            "image/png": "[encoded data removed]"
          },
          "metadata": {}
        }
      ]
    },
    {
      "cell_type": "markdown",
      "source": [
        "## Data Preprocessing"
      ],
      "metadata": {
        "id": "rYjZQJHg8YWG"
      }
    },
    {
      "cell_type": "markdown",
      "source": [
        "flatten images![flatten images.png](data:image/png;base64,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)"
      ],
      "metadata": {
        "id": "kLXuK_fA8noX"
      }
    },
    {
      "cell_type": "code",
      "source": [
        "df.images.shape"
      ],
      "metadata": {
        "colab": {
          "base_uri": "https://localhost:8080/"
        },
        "id": "CZ1otEv98mIm",
        "outputId": "e2ef901d-a924-4090-d777-106adbc28dae"
      },
      "execution_count": 23,
      "outputs": [
        {
          "output_type": "execute_result",
          "data": {
            "text/plain": [
              "(1797, 8, 8)"
            ]
          },
          "metadata": {},
          "execution_count": 23
        }
      ]
    },
    {
      "cell_type": "code",
      "source": [
        "df.images[0]"
      ],
      "metadata": {
        "colab": {
          "base_uri": "https://localhost:8080/"
        },
        "id": "atMLRTdc80UT",
        "outputId": "efb88dfb-9950-436b-b909-a92108631c87"
      },
      "execution_count": 24,
      "outputs": [
        {
          "output_type": "execute_result",
          "data": {
            "text/plain": [
              "array([[ 0.,  0.,  5., 13.,  9.,  1.,  0.,  0.],\n",
              "       [ 0.,  0., 13., 15., 10., 15.,  5.,  0.],\n",
              "       [ 0.,  3., 15.,  2.,  0., 11.,  8.,  0.],\n",
              "       [ 0.,  4., 12.,  0.,  0.,  8.,  8.,  0.],\n",
              "       [ 0.,  5.,  8.,  0.,  0.,  9.,  8.,  0.],\n",
              "       [ 0.,  4., 11.,  0.,  1., 12.,  7.,  0.],\n",
              "       [ 0.,  2., 14.,  5., 10., 12.,  0.,  0.],\n",
              "       [ 0.,  0.,  6., 13., 10.,  0.,  0.,  0.]])"
            ]
          },
          "metadata": {},
          "execution_count": 24
        }
      ]
    },
    {
      "cell_type": "code",
      "source": [
        "df.images[0].shape"
      ],
      "metadata": {
        "colab": {
          "base_uri": "https://localhost:8080/"
        },
        "id": "ZBnouhTP83R-",
        "outputId": "6af14044-ee15-479c-8764-a34da51dd222"
      },
      "execution_count": 25,
      "outputs": [
        {
          "output_type": "execute_result",
          "data": {
            "text/plain": [
              "(8, 8)"
            ]
          },
          "metadata": {},
          "execution_count": 25
        }
      ]
    },
    {
      "cell_type": "code",
      "source": [
        "len(df.images)"
      ],
      "metadata": {
        "colab": {
          "base_uri": "https://localhost:8080/"
        },
        "id": "r3f2ly8Y86e9",
        "outputId": "36ae4823-df12-4c6f-db0c-41ad0a7d9908"
      },
      "execution_count": 26,
      "outputs": [
        {
          "output_type": "execute_result",
          "data": {
            "text/plain": [
              "1797"
            ]
          },
          "metadata": {},
          "execution_count": 26
        }
      ]
    },
    {
      "cell_type": "code",
      "source": [
        "n_samples = len(df.images)\n",
        "data = df.images.reshape((n_samples,-1))"
      ],
      "metadata": {
        "id": "GULdSe-C8-jn"
      },
      "execution_count": 27,
      "outputs": []
    },
    {
      "cell_type": "code",
      "source": [
        "data[0]"
      ],
      "metadata": {
        "colab": {
          "base_uri": "https://localhost:8080/"
        },
        "id": "WB4QDRiD9QKu",
        "outputId": "2a666abe-4846-47de-b874-8f49a4a4a60f"
      },
      "execution_count": 28,
      "outputs": [
        {
          "output_type": "execute_result",
          "data": {
            "text/plain": [
              "array([ 0.,  0.,  5., 13.,  9.,  1.,  0.,  0.,  0.,  0., 13., 15., 10.,\n",
              "       15.,  5.,  0.,  0.,  3., 15.,  2.,  0., 11.,  8.,  0.,  0.,  4.,\n",
              "       12.,  0.,  0.,  8.,  8.,  0.,  0.,  5.,  8.,  0.,  0.,  9.,  8.,\n",
              "        0.,  0.,  4., 11.,  0.,  1., 12.,  7.,  0.,  0.,  2., 14.,  5.,\n",
              "       10., 12.,  0.,  0.,  0.,  0.,  6., 13., 10.,  0.,  0.,  0.])"
            ]
          },
          "metadata": {},
          "execution_count": 28
        }
      ]
    },
    {
      "cell_type": "code",
      "source": [
        "data[0].shape"
      ],
      "metadata": {
        "colab": {
          "base_uri": "https://localhost:8080/"
        },
        "id": "qo1rH33e9SK0",
        "outputId": "c4c0016f-119a-4788-fa59-ed5d7880dddf"
      },
      "execution_count": 29,
      "outputs": [
        {
          "output_type": "execute_result",
          "data": {
            "text/plain": [
              "(64,)"
            ]
          },
          "metadata": {},
          "execution_count": 29
        }
      ]
    },
    {
      "cell_type": "code",
      "source": [
        "data.shape"
      ],
      "metadata": {
        "colab": {
          "base_uri": "https://localhost:8080/"
        },
        "id": "eW74362y9UV-",
        "outputId": "94c3b099-8ea9-438e-ebe2-b929caed6390"
      },
      "execution_count": 30,
      "outputs": [
        {
          "output_type": "execute_result",
          "data": {
            "text/plain": [
              "(1797, 64)"
            ]
          },
          "metadata": {},
          "execution_count": 30
        }
      ]
    },
    {
      "cell_type": "markdown",
      "source": [
        "## Scalling Image data"
      ],
      "metadata": {
        "id": "SJESqZ4Y9lJk"
      }
    },
    {
      "cell_type": "code",
      "source": [
        "data.min()\n"
      ],
      "metadata": {
        "colab": {
          "base_uri": "https://localhost:8080/"
        },
        "id": "3Qmfd47Q9nl2",
        "outputId": "91e791e7-9000-4dd5-afc3-587cde89f596"
      },
      "execution_count": 31,
      "outputs": [
        {
          "output_type": "execute_result",
          "data": {
            "text/plain": [
              "0.0"
            ]
          },
          "metadata": {},
          "execution_count": 31
        }
      ]
    },
    {
      "cell_type": "code",
      "source": [
        "data.max()"
      ],
      "metadata": {
        "colab": {
          "base_uri": "https://localhost:8080/"
        },
        "id": "KgkdoXNp9tZQ",
        "outputId": "15214fbf-7cc6-46c3-f3e1-f4276fb0273d"
      },
      "execution_count": 32,
      "outputs": [
        {
          "output_type": "execute_result",
          "data": {
            "text/plain": [
              "16.0"
            ]
          },
          "metadata": {},
          "execution_count": 32
        }
      ]
    },
    {
      "cell_type": "code",
      "source": [
        "data = data/16"
      ],
      "metadata": {
        "id": "xmO7JXr29vND"
      },
      "execution_count": 33,
      "outputs": []
    },
    {
      "cell_type": "code",
      "source": [
        "data.min()"
      ],
      "metadata": {
        "colab": {
          "base_uri": "https://localhost:8080/"
        },
        "id": "vdhuwX7b9xeC",
        "outputId": "482eb306-1109-4d66-b27c-a096c344ef5b"
      },
      "execution_count": 34,
      "outputs": [
        {
          "output_type": "execute_result",
          "data": {
            "text/plain": [
              "0.0"
            ]
          },
          "metadata": {},
          "execution_count": 34
        }
      ]
    },
    {
      "cell_type": "code",
      "source": [
        "data.max()"
      ],
      "metadata": {
        "colab": {
          "base_uri": "https://localhost:8080/"
        },
        "id": "oyPyJb9H9zrB",
        "outputId": "5d550db7-b4c9-4a68-de8a-e34711257b68"
      },
      "execution_count": 35,
      "outputs": [
        {
          "output_type": "execute_result",
          "data": {
            "text/plain": [
              "1.0"
            ]
          },
          "metadata": {},
          "execution_count": 35
        }
      ]
    },
    {
      "cell_type": "code",
      "source": [
        "data[0]"
      ],
      "metadata": {
        "colab": {
          "base_uri": "https://localhost:8080/"
        },
        "id": "oadSzSpG91H7",
        "outputId": "add4d26e-7c7a-40ee-99c6-db4228dba4fb"
      },
      "execution_count": 36,
      "outputs": [
        {
          "output_type": "execute_result",
          "data": {
            "text/plain": [
              "array([0.    , 0.    , 0.3125, 0.8125, 0.5625, 0.0625, 0.    , 0.    ,\n",
              "       0.    , 0.    , 0.8125, 0.9375, 0.625 , 0.9375, 0.3125, 0.    ,\n",
              "       0.    , 0.1875, 0.9375, 0.125 , 0.    , 0.6875, 0.5   , 0.    ,\n",
              "       0.    , 0.25  , 0.75  , 0.    , 0.    , 0.5   , 0.5   , 0.    ,\n",
              "       0.    , 0.3125, 0.5   , 0.    , 0.    , 0.5625, 0.5   , 0.    ,\n",
              "       0.    , 0.25  , 0.6875, 0.    , 0.0625, 0.75  , 0.4375, 0.    ,\n",
              "       0.    , 0.125 , 0.875 , 0.3125, 0.625 , 0.75  , 0.    , 0.    ,\n",
              "       0.    , 0.    , 0.375 , 0.8125, 0.625 , 0.    , 0.    , 0.    ])"
            ]
          },
          "metadata": {},
          "execution_count": 36
        }
      ]
    },
    {
      "cell_type": "markdown",
      "source": [
        "## Train Test Split Data"
      ],
      "metadata": {
        "id": "6spdpbUH-aV7"
      }
    },
    {
      "cell_type": "code",
      "source": [
        "from sklearn.model_selection import train_test_split\n",
        "x_train,x_test,y_train,y_test = train_test_split(data, df.target,test_size=0.3)"
      ],
      "metadata": {
        "id": "6feKRliy-djA"
      },
      "execution_count": 37,
      "outputs": []
    },
    {
      "cell_type": "code",
      "source": [
        "x_train.shape,x_test.shape,y_train.shape,y_test.shape"
      ],
      "metadata": {
        "colab": {
          "base_uri": "https://localhost:8080/"
        },
        "id": "scEoxrke_PJk",
        "outputId": "082630f6-cce6-495f-ef11-375cba62b440"
      },
      "execution_count": 38,
      "outputs": [
        {
          "output_type": "execute_result",
          "data": {
            "text/plain": [
              "((1257, 64), (540, 64), (1257,), (540,))"
            ]
          },
          "metadata": {},
          "execution_count": 38
        }
      ]
    },
    {
      "cell_type": "markdown",
      "source": [
        "## Random Forest Model"
      ],
      "metadata": {
        "id": "khKlcB69_lnC"
      }
    },
    {
      "cell_type": "code",
      "source": [
        "from sklearn.ensemble import RandomForestClassifier"
      ],
      "metadata": {
        "id": "DCc6ax9-_orO"
      },
      "execution_count": 39,
      "outputs": []
    },
    {
      "cell_type": "code",
      "source": [
        "rf =  RandomForestClassifier()"
      ],
      "metadata": {
        "id": "hrq65oMQ_1iQ"
      },
      "execution_count": 40,
      "outputs": []
    },
    {
      "cell_type": "code",
      "source": [
        "rf.fit(x_train,y_train)"
      ],
      "metadata": {
        "colab": {
          "base_uri": "https://localhost:8080/",
          "height": 74
        },
        "id": "Cq4JP3t3_6Tj",
        "outputId": "f2076018-12f2-49bd-ef51-3f977d592ed0"
      },
      "execution_count": 41,
      "outputs": [
        {
          "output_type": "execute_result",
          "data": {
            "text/plain": [
              "RandomForestClassifier()"
            ],
            "text/html": [
              "<style>#sk-container-id-1 {color: black;background-color: white;}#sk-container-id-1 pre{padding: 0;}#sk-container-id-1 div.sk-toggleable {background-color: white;}#sk-container-id-1 label.sk-toggleable__label {cursor: pointer;display: block;width: 100%;margin-bottom: 0;padding: 0.3em;box-sizing: border-box;text-align: center;}#sk-container-id-1 label.sk-toggleable__label-arrow:before {content: \"▸\";float: left;margin-right: 0.25em;color: #696969;}#sk-container-id-1 label.sk-toggleable__label-arrow:hover:before {color: black;}#sk-container-id-1 div.sk-estimator:hover label.sk-toggleable__label-arrow:before {color: black;}#sk-container-id-1 div.sk-toggleable__content {max-height: 0;max-width: 0;overflow: hidden;text-align: left;background-color: #f0f8ff;}#sk-container-id-1 div.sk-toggleable__content pre {margin: 0.2em;color: black;border-radius: 0.25em;background-color: #f0f8ff;}#sk-container-id-1 input.sk-toggleable__control:checked~div.sk-toggleable__content {max-height: 200px;max-width: 100%;overflow: auto;}#sk-container-id-1 input.sk-toggleable__control:checked~label.sk-toggleable__label-arrow:before {content: \"▾\";}#sk-container-id-1 div.sk-estimator input.sk-toggleable__control:checked~label.sk-toggleable__label {background-color: #d4ebff;}#sk-container-id-1 div.sk-label input.sk-toggleable__control:checked~label.sk-toggleable__label {background-color: #d4ebff;}#sk-container-id-1 input.sk-hidden--visually {border: 0;clip: rect(1px 1px 1px 1px);clip: rect(1px, 1px, 1px, 1px);height: 1px;margin: -1px;overflow: hidden;padding: 0;position: absolute;width: 1px;}#sk-container-id-1 div.sk-estimator {font-family: monospace;background-color: #f0f8ff;border: 1px dotted black;border-radius: 0.25em;box-sizing: border-box;margin-bottom: 0.5em;}#sk-container-id-1 div.sk-estimator:hover {background-color: #d4ebff;}#sk-container-id-1 div.sk-parallel-item::after {content: \"\";width: 100%;border-bottom: 1px solid gray;flex-grow: 1;}#sk-container-id-1 div.sk-label:hover label.sk-toggleable__label {background-color: #d4ebff;}#sk-container-id-1 div.sk-serial::before {content: \"\";position: absolute;border-left: 1px solid gray;box-sizing: border-box;top: 0;bottom: 0;left: 50%;z-index: 0;}#sk-container-id-1 div.sk-serial {display: flex;flex-direction: column;align-items: center;background-color: white;padding-right: 0.2em;padding-left: 0.2em;position: relative;}#sk-container-id-1 div.sk-item {position: relative;z-index: 1;}#sk-container-id-1 div.sk-parallel {display: flex;align-items: stretch;justify-content: center;background-color: white;position: relative;}#sk-container-id-1 div.sk-item::before, #sk-container-id-1 div.sk-parallel-item::before {content: \"\";position: absolute;border-left: 1px solid gray;box-sizing: border-box;top: 0;bottom: 0;left: 50%;z-index: -1;}#sk-container-id-1 div.sk-parallel-item {display: flex;flex-direction: column;z-index: 1;position: relative;background-color: white;}#sk-container-id-1 div.sk-parallel-item:first-child::after {align-self: flex-end;width: 50%;}#sk-container-id-1 div.sk-parallel-item:last-child::after {align-self: flex-start;width: 50%;}#sk-container-id-1 div.sk-parallel-item:only-child::after {width: 0;}#sk-container-id-1 div.sk-dashed-wrapped {border: 1px dashed gray;margin: 0 0.4em 0.5em 0.4em;box-sizing: border-box;padding-bottom: 0.4em;background-color: white;}#sk-container-id-1 div.sk-label label {font-family: monospace;font-weight: bold;display: inline-block;line-height: 1.2em;}#sk-container-id-1 div.sk-label-container {text-align: center;}#sk-container-id-1 div.sk-container {/* jupyter's `normalize.less` sets `[hidden] { display: none; }` but bootstrap.min.css set `[hidden] { display: none !important; }` so we also need the `!important` here to be able to override the default hidden behavior on the sphinx rendered scikit-learn.org. See: https://github.com/scikit-learn/scikit-learn/issues/21755 */display: inline-block !important;position: relative;}#sk-container-id-1 div.sk-text-repr-fallback {display: none;}</style><div id=\"sk-container-id-1\" class=\"sk-top-container\"><div class=\"sk-text-repr-fallback\"><pre>RandomForestClassifier()</pre><b>In a Jupyter environment, please rerun this cell to show the HTML representation or trust the notebook. <br />On GitHub, the HTML representation is unable to render, please try loading this page with nbviewer.org.</b></div><div class=\"sk-container\" hidden><div class=\"sk-item\"><div class=\"sk-estimator sk-toggleable\"><input class=\"sk-toggleable__control sk-hidden--visually\" id=\"sk-estimator-id-1\" type=\"checkbox\" checked><label for=\"sk-estimator-id-1\" class=\"sk-toggleable__label sk-toggleable__label-arrow\">RandomForestClassifier</label><div class=\"sk-toggleable__content\"><pre>RandomForestClassifier()</pre></div></div></div></div></div>"
            ]
          },
          "metadata": {},
          "execution_count": 41
        }
      ]
    },
    {
      "cell_type": "markdown",
      "source": [
        "## Predict Test data"
      ],
      "metadata": {
        "id": "94GZgpHyAXR3"
      }
    },
    {
      "cell_type": "code",
      "source": [
        "y_predict = rf.predict(x_test)"
      ],
      "metadata": {
        "id": "1I6PL3dgAaCA"
      },
      "execution_count": 42,
      "outputs": []
    },
    {
      "cell_type": "code",
      "source": [
        "y_predict"
      ],
      "metadata": {
        "colab": {
          "base_uri": "https://localhost:8080/"
        },
        "id": "uMsx7oclAgcz",
        "outputId": "81da28a3-d949-488b-bfdf-3d59c4d99cf1"
      },
      "execution_count": 43,
      "outputs": [
        {
          "output_type": "execute_result",
          "data": {
            "text/plain": [
              "array([1, 8, 5, 6, 1, 9, 0, 1, 2, 5, 2, 5, 6, 4, 1, 6, 7, 1, 2, 7, 0, 9,\n",
              "       4, 6, 0, 5, 3, 1, 3, 1, 4, 8, 6, 3, 6, 0, 3, 7, 4, 9, 8, 0, 4, 6,\n",
              "       6, 4, 6, 5, 8, 0, 6, 6, 0, 9, 2, 1, 1, 0, 0, 7, 7, 0, 0, 9, 8, 7,\n",
              "       1, 0, 1, 6, 4, 2, 4, 8, 9, 4, 6, 1, 3, 8, 0, 8, 4, 0, 3, 2, 9, 2,\n",
              "       2, 0, 8, 9, 0, 7, 8, 7, 6, 9, 0, 3, 3, 7, 3, 4, 1, 8, 9, 8, 7, 8,\n",
              "       7, 1, 5, 8, 6, 9, 3, 1, 1, 2, 5, 3, 5, 6, 9, 9, 5, 3, 6, 0, 5, 7,\n",
              "       7, 9, 4, 9, 8, 2, 9, 3, 3, 0, 4, 9, 9, 6, 7, 9, 5, 4, 0, 1, 8, 1,\n",
              "       8, 9, 8, 6, 1, 0, 4, 1, 6, 6, 7, 1, 5, 6, 9, 1, 6, 0, 7, 3, 9, 2,\n",
              "       8, 2, 3, 2, 0, 7, 5, 0, 4, 6, 4, 9, 8, 9, 4, 6, 5, 4, 0, 0, 6, 3,\n",
              "       3, 9, 9, 8, 4, 7, 1, 9, 9, 8, 3, 2, 6, 0, 7, 1, 2, 4, 1, 6, 0, 4,\n",
              "       9, 4, 6, 1, 7, 8, 4, 1, 3, 2, 7, 1, 2, 2, 4, 3, 2, 1, 3, 8, 9, 5,\n",
              "       7, 2, 0, 5, 6, 0, 7, 0, 8, 3, 6, 1, 7, 4, 5, 0, 2, 6, 7, 7, 8, 0,\n",
              "       4, 0, 8, 2, 5, 7, 5, 1, 1, 2, 2, 5, 0, 4, 7, 9, 9, 4, 7, 5, 1, 5,\n",
              "       3, 5, 4, 1, 2, 2, 8, 8, 5, 5, 8, 9, 6, 3, 1, 3, 3, 0, 0, 0, 2, 7,\n",
              "       5, 5, 6, 6, 2, 6, 3, 2, 3, 7, 0, 9, 5, 6, 8, 9, 5, 6, 1, 6, 4, 6,\n",
              "       2, 3, 2, 2, 0, 7, 3, 5, 0, 9, 8, 6, 8, 1, 1, 4, 5, 3, 4, 0, 7, 0,\n",
              "       9, 5, 1, 4, 1, 2, 6, 2, 7, 3, 9, 4, 1, 4, 1, 7, 0, 7, 5, 5, 0, 2,\n",
              "       0, 7, 4, 0, 3, 2, 8, 4, 1, 1, 9, 2, 6, 6, 5, 9, 2, 3, 3, 9, 9, 4,\n",
              "       2, 1, 1, 4, 8, 0, 8, 8, 4, 0, 3, 4, 6, 0, 2, 4, 1, 0, 2, 5, 2, 3,\n",
              "       7, 2, 6, 6, 5, 0, 4, 9, 5, 9, 4, 7, 6, 7, 6, 5, 1, 1, 4, 2, 1, 4,\n",
              "       7, 8, 9, 8, 4, 0, 0, 7, 8, 2, 6, 6, 9, 0, 3, 7, 3, 0, 2, 9, 1, 2,\n",
              "       1, 2, 0, 0, 8, 1, 2, 1, 0, 1, 2, 4, 3, 6, 4, 3, 6, 0, 5, 2, 5, 7,\n",
              "       8, 1, 4, 6, 6, 4, 3, 8, 8, 3, 7, 5, 7, 9, 9, 7, 5, 6, 8, 8, 7, 5,\n",
              "       7, 9, 4, 4, 7, 9, 8, 9, 4, 5, 3, 4, 3, 6, 9, 4, 7, 4, 8, 5, 4, 3,\n",
              "       9, 5, 8, 8, 2, 2, 1, 2, 0, 7, 8, 4])"
            ]
          },
          "metadata": {},
          "execution_count": 43
        }
      ]
    },
    {
      "cell_type": "markdown",
      "source": [
        "# Model Accuracy"
      ],
      "metadata": {
        "id": "X-jE-mYnA59G"
      }
    },
    {
      "cell_type": "code",
      "source": [
        "from sklearn.metrics import confusion_matrix, classification_report"
      ],
      "metadata": {
        "id": "HteO1cOR1cqy"
      },
      "execution_count": 11,
      "outputs": []
    },
    {
      "cell_type": "code",
      "source": [
        "confusion_matrix(y_test, y_predict)"
      ],
      "metadata": {
        "colab": {
          "base_uri": "https://localhost:8080/"
        },
        "id": "6CU79VW3138J",
        "outputId": "46fac40c-363d-4c5a-f862-58f83b6f66d8"
      },
      "execution_count": 45,
      "outputs": [
        {
          "output_type": "execute_result",
          "data": {
            "text/plain": [
              "array([[61,  0,  0,  0,  1,  0,  0,  0,  0,  0],\n",
              "       [ 0, 53,  0,  0,  0,  0,  0,  0,  0,  0],\n",
              "       [ 0,  0, 54,  0,  0,  0,  0,  0,  0,  0],\n",
              "       [ 0,  0,  0, 46,  0,  2,  0,  1,  1,  1],\n",
              "       [ 0,  0,  0,  0, 58,  0,  0,  0,  0,  0],\n",
              "       [ 0,  0,  0,  0,  0, 43,  1,  0,  0,  2],\n",
              "       [ 0,  1,  0,  0,  0,  1, 56,  0,  1,  0],\n",
              "       [ 0,  0,  0,  0,  1,  0,  0, 51,  0,  1],\n",
              "       [ 0,  3,  0,  1,  0,  1,  0,  0, 49,  0],\n",
              "       [ 0,  0,  0,  0,  0,  0,  0,  0,  0, 50]])"
            ]
          },
          "metadata": {},
          "execution_count": 45
        }
      ]
    },
    {
      "cell_type": "code",
      "source": [
        "print(classification_report(y_test, y_predict))"
      ],
      "metadata": {
        "colab": {
          "base_uri": "https://localhost:8080/"
        },
        "id": "dcIFtpA74fNV",
        "outputId": "a349e975-07b6-4058-e567-1fa895f427ce"
      },
      "execution_count": 46,
      "outputs": [
        {
          "output_type": "stream",
          "name": "stdout",
          "text": [
            "              precision    recall  f1-score   support\n",
            "\n",
            "           0       1.00      0.98      0.99        62\n",
            "           1       0.93      1.00      0.96        53\n",
            "           2       1.00      1.00      1.00        54\n",
            "           3       0.98      0.90      0.94        51\n",
            "           4       0.97      1.00      0.98        58\n",
            "           5       0.91      0.93      0.92        46\n",
            "           6       0.98      0.95      0.97        59\n",
            "           7       0.98      0.96      0.97        53\n",
            "           8       0.96      0.91      0.93        54\n",
            "           9       0.93      1.00      0.96        50\n",
            "\n",
            "    accuracy                           0.96       540\n",
            "   macro avg       0.96      0.96      0.96       540\n",
            "weighted avg       0.97      0.96      0.96       540\n",
            "\n"
          ]
        }
      ]
    }
  ]
}